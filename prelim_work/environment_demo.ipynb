{
 "cells": [
  {
   "cell_type": "code",
   "execution_count": 1,
   "metadata": {},
   "outputs": [],
   "source": [
    "import thermo\n",
    "import numpy as np\n",
    "import pandas as pd"
   ]
  },
  {
   "cell_type": "code",
   "execution_count": 5,
   "metadata": {},
   "outputs": [],
   "source": [
    "class environmentThermo:\n",
    "    \"\"\"\n",
    "    should help with connecting to thermo API to get properties\n",
    "    note from Sartaaj: more functions can be added if needed - that's why I think this is best as an \"environment\"\n",
    "    \"\"\"\n",
    "    def __init__(self, mass_array, componentNames):\n",
    "        \"\"\"\n",
    "        Takes mass_array = [m1, m2, ..., mN], where mN is mass of nth component in mixture\n",
    "        componentNames -> list of strings of component names - example: ['methanol', 'ethanol', 'butanol', ...]\n",
    "        \"\"\"\n",
    "        self.mass_array = mass_array\n",
    "        self.componentNames = componentNames\n",
    "        self.total_mass = np.sum(mass_array) #sums mass of pure components [m1, m2, ..., mN] -> returns real number R\n",
    "        self.mass_frac = [x/self.total_mass for x in self.mass_array] #returns array of mass fractions of each component\n",
    "\n",
    "    def thermophysicalProperties(self):\n",
    "        \"\"\"\n",
    "        returns thermophysical properties [density, viscosity, thermal cond., heat capacity] of mixture object defined in __init__\n",
    "        returned units: [kg/m3, Pa*s, W/mK, J/kgK]\n",
    "        \"\"\"\n",
    "        m = thermo.Mixture(self.componentNames, ws = self.mass_frac)\n",
    "        return [m.rho, m.mu, m.k, m.Cp]\n",
    "\n",
    "    def FOM(self):\n",
    "        \"\"\"\n",
    "        computes FOM(y); y = [rho, mu, k, Cp]\n",
    "        FOM(y) = (k = 0 -> 3) Π(y_k ^ p_k), where p_k are the values in FOM array\n",
    "        \"\"\"\n",
    "        fom_array = [0.2, -0.4, 0.2, 2]\n",
    "        thermoProperties = self.thermophysicalProperties()\n",
    "\n",
    "        return np.prod(np.power(thermoProperties[:4], fom_array[:4]))\n",
    "\n"
   ]
  },
  {
   "cell_type": "code",
   "execution_count": 7,
   "metadata": {},
   "outputs": [],
   "source": [
    "obj = environmentThermo([200, 400, 600], ['methanol', 'butanol', 'ethanol'])"
   ]
  },
  {
   "cell_type": "code",
   "execution_count": 11,
   "metadata": {},
   "outputs": [
    {
     "name": "stdout",
     "output_type": "stream",
     "text": [
      "[density, viscosity, thermal conductivity, specific heat capacity]: [791.5677853099992, 0.001096394205898264, 0.16411435480674483, 2439.561685820988]\n",
      "FOM(y) : 240637801.67715958\n"
     ]
    }
   ],
   "source": [
    "print(\"[density, viscosity, thermal conductivity, specific heat capacity]: {}\".format(obj.thermophysicalProperties()))\n",
    "print(\"FOM(y) : {}\".format(str(obj.FOM())))"
   ]
  },
  {
   "cell_type": "code",
   "execution_count": null,
   "metadata": {},
   "outputs": [],
   "source": []
  }
 ],
 "metadata": {
  "kernelspec": {
   "display_name": "base",
   "language": "python",
   "name": "python3"
  },
  "language_info": {
   "codemirror_mode": {
    "name": "ipython",
    "version": 3
   },
   "file_extension": ".py",
   "mimetype": "text/x-python",
   "name": "python",
   "nbconvert_exporter": "python",
   "pygments_lexer": "ipython3",
   "version": "3.9.7"
  }
 },
 "nbformat": 4,
 "nbformat_minor": 2
}
